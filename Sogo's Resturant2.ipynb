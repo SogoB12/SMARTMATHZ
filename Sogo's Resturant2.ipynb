{
 "cells": [
  {
   "cell_type": "code",
   "execution_count": 1,
   "id": "e2d3b109-c6fa-4fcb-bd9c-7ffb1dbeae67",
   "metadata": {},
   "outputs": [],
   "source": [
    "import pandas as pd \n",
    "import tkinter as tk\n",
    "from tkinter import ttk \n",
    "from tkinter import messagebox "
   ]
  },
  {
   "cell_type": "code",
   "execution_count": 2,
   "id": "f41fbb85-1c11-48f0-9913-da4329f44a6e",
   "metadata": {},
   "outputs": [],
   "source": [
    "data = {\n",
    "    \"Meal Ordered\": [\"Pizza\", \"Pasta\", \"Burger\",\"Chicken\",\"Fish\",\"Chicken Sandwich\",\"Steak\",\"Mashed Potatoes\",\"Fried Rice w/ vegetables\",\"Fried Rice\"],\n",
    "    \"Price\": [12.99, 15.49, 10.75, 6.99, 7.59, 8.25, 13.75,6.99,8.00, 7.25 ]\n",
    "}\n",
    "df = pd.DataFrame(data)"
   ]
  },
  {
   "cell_type": "code",
   "execution_count": 3,
   "id": "a542b63c-8d29-46a7-b5d3-a38bce6cb5e7",
   "metadata": {},
   "outputs": [
    {
     "name": "stdout",
     "output_type": "stream",
     "text": [
      "  Meal Ordered  Price\n",
      "0        Pizza  12.99\n",
      "1        Pasta  15.49\n",
      "2       Burger  10.75\n",
      "3      Chicken   6.99\n",
      "4         Fish   7.59\n"
     ]
    }
   ],
   "source": [
    "print(df.head())"
   ]
  },
  {
   "cell_type": "code",
   "execution_count": 4,
   "id": "37be12cc-fa2b-44e2-b062-7d450b6eba7d",
   "metadata": {},
   "outputs": [],
   "source": [
    "def calculate_tip(price, percentage):\n",
    "   \n",
    "    return price * (percentage / 100)\n",
    "\n",
    "def generate_receipt():\n",
    "    \n",
    "    try:\n",
    "        # Get selected meal\n",
    "        selected_index = meal_combobox.current()\n",
    "        if selected_index == -1:\n",
    "            raise ValueError(\"No meal selected!\")\n",
    "        \n",
    "        selected_row = df.iloc[selected_index]\n",
    "        meal = selected_row[\"Meal Ordered\"]\n",
    "        price = selected_row[\"Price\"]\n",
    "\n",
    "        # Get tip percentage\n",
    "        tip_choice = tip_combobox.get()\n",
    "        if tip_choice == \"Custom\":\n",
    "            tip_percentage = float(custom_tip_entry.get())\n",
    "        else:\n",
    "            tip_percentage = float(tip_choice.strip('%'))\n",
    "        \n",
    "        # Calculate tip and total bill\n",
    "        tip = calculate_tip(price, tip_percentage)\n",
    "        total_bill = price + tip\n",
    "\n",
    "        # Display receipt\n",
    "        receipt_text.set(\n",
    "            f\"Meal Ordered: {meal}\\n\"\n",
    "            f\"Meal Price: ${price:.2f}\\n\"\n",
    "            f\"Tip ({tip_percentage}%): ${tip:.2f}\\n\"\n",
    "            f\"Total Bill: ${total_bill:.2f}\"\n",
    "        )\n",
    "    except ValueError as e:\n",
    "        messagebox.showerror(\"Input Error\", str(e))\n",
    "    except Exception as e:\n",
    "        messagebox.showerror(\"Error\", \"An unexpected error occurred!\")\n",
    "\n",
    "\n",
    "root = tk.Tk()\n",
    "root.title(\"Tip Calculator\")\n",
    "root.geometry(\"400x500\")\n",
    "root.config(bg=\"powder blue\")\n",
    "root.resizable(True, True)\n",
    "\n",
    "# Title Label\n",
    "title_label = tk.Label(root, text=\"Sogo's Restaurant Order\", font=(\"Arial\", 16, \"bold\"))\n",
    "title_label.pack(pady=10)\n",
    "\n",
    "# Restaurant Selection\n",
    "meal_label = tk.Label(root, text=\"Select a Meal:\", font=(\"Arial\", 12))\n",
    "meal_label.pack(anchor=\"w\", padx=20)\n",
    "meal_combobox = ttk.Combobox(root, values=df[\"Meal Ordered\"].tolist(), font=(\"Arial\", 12))\n",
    "meal_combobox.pack(padx=20, pady=5)\n",
    "\n",
    "# Tip Selection\n",
    "tip_label = tk.Label(root, text=\"Select Tip Percentage:\", font=(\"Arial\", 12))\n",
    "tip_label.pack(anchor=\"w\", padx=20)\n",
    "tip_combobox = ttk.Combobox(\n",
    "    root, \n",
    "    values=[\"5%\", \"10%\", \"15%\", \"20%\", \"Custom\"], \n",
    "    font=(\"Arial\", 12)\n",
    ")\n",
    "tip_combobox.pack(padx=20, pady=5)\n",
    "\n",
    "\n",
    "custom_tip_label = tk.Label(root, text=\"Custom Tip Percentage (if selected):\", font=(\"Arial\", 12))\n",
    "custom_tip_label.pack(anchor=\"w\", padx=20)\n",
    "custom_tip_entry = tk.Entry(root, font=(\"Arial\", 12))\n",
    "custom_tip_entry.pack(padx=20, pady=5)\n",
    "\n",
    "\n",
    "receipt_text = tk.StringVar()\n",
    "receipt_label = tk.Label(root, textvariable=receipt_text, font=(\"Arial\", 12), justify=\"left\", bg=\"white\", relief=\"solid\", anchor=\"nw\", padx=10, pady=10)\n",
    "receipt_label.pack(padx=20, pady=20, fill=\"both\", expand=True)\n",
    "\n",
    "\n",
    "calculate_button = tk.Button(root, text=\"Calculate Tip\", font=(\"Arial\", 12, \"bold\"), bg=\"green\", fg=\"white\", command=generate_receipt)\n",
    "calculate_button.pack(pady=10)\n",
    "\n",
    "# Run the application\n",
    "root.mainloop()\n"
   ]
  },
  {
   "cell_type": "code",
   "execution_count": null,
   "id": "b6b6981b-5db3-4221-ab7c-73d364da01ce",
   "metadata": {},
   "outputs": [],
   "source": []
  }
 ],
 "metadata": {
  "kernelspec": {
   "display_name": "Python 3 (ipykernel)",
   "language": "python",
   "name": "python3"
  },
  "language_info": {
   "codemirror_mode": {
    "name": "ipython",
    "version": 3
   },
   "file_extension": ".py",
   "mimetype": "text/x-python",
   "name": "python",
   "nbconvert_exporter": "python",
   "pygments_lexer": "ipython3",
   "version": "3.12.4"
  }
 },
 "nbformat": 4,
 "nbformat_minor": 5
}
